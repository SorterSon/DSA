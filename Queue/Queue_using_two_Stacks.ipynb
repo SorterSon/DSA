{
  "nbformat": 4,
  "nbformat_minor": 0,
  "metadata": {
    "colab": {
      "provenance": []
    },
    "kernelspec": {
      "name": "python3",
      "display_name": "Python 3"
    },
    "language_info": {
      "name": "python"
    }
  },
  "cells": [
    {
      "cell_type": "code",
      "execution_count": 1,
      "metadata": {
        "id": "SM7NIVVS6piw"
      },
      "outputs": [],
      "source": [
        "class Node:\n",
        "\n",
        "  def __init__(self, value):\n",
        "    self.data = value\n",
        "    self.next = None"
      ]
    },
    {
      "cell_type": "code",
      "source": [
        "class Queue:\n",
        "\n",
        "  def __init__(self):\n",
        "    self.rear = None\n",
        "    self.front = None\n",
        "\n",
        "  def enque(self, value):\n",
        "    new_node = Node(value)\n",
        "    new_node.next = self.rear\n",
        "    self.rear = new_node\n",
        "\n",
        "  def deque(self):\n",
        "    if self.front == None:\n",
        "      while self.rear != None:\n",
        "        new_node = Node(self.rear.data)\n",
        "        new_node.next = self.front\n",
        "        self.front = new_node\n",
        "\n",
        "        self.rear = self.rear.next\n",
        "\n",
        "    if self.front == None:\n",
        "      return 'Queue is empty'\n",
        "\n",
        "    data = self.front.data\n",
        "    self.front = self.front.next\n",
        "    return data\n",
        "\n",
        "  def __str__(self):\n",
        "    result = ''\n",
        "    start = self.front\n",
        "    while start != None:\n",
        "      result += str(start.data) + '<-'\n",
        "      start = start.next\n",
        "    else:\n",
        "      result1 = ''\n",
        "      while self.rear != None:\n",
        "        result1 = '<-' + str(self.rear.data) + result1\n",
        "        self.rear = self.rear.next\n",
        "    return result + result1[2:]"
      ],
      "metadata": {
        "id": "_QaTW4_lE-fw"
      },
      "execution_count": 30,
      "outputs": []
    },
    {
      "cell_type": "code",
      "source": [
        "q = Queue()"
      ],
      "metadata": {
        "id": "RF9ypOViE-mf"
      },
      "execution_count": 31,
      "outputs": []
    },
    {
      "cell_type": "code",
      "source": [
        "q.enque(2)\n",
        "q.enque(4)\n",
        "q.enque(3)\n",
        "q.deque()\n",
        "q.enque(5)\n",
        "q.enque(6)\n",
        "q.deque()\n",
        "print(q)"
      ],
      "metadata": {
        "colab": {
          "base_uri": "https://localhost:8080/"
        },
        "id": "VLvWEVxEE-so",
        "outputId": "906663a3-d7e7-49b5-c795-9b8d887bfb50"
      },
      "execution_count": 32,
      "outputs": [
        {
          "output_type": "stream",
          "name": "stdout",
          "text": [
            "3<-5<-6\n"
          ]
        }
      ]
    },
    {
      "cell_type": "code",
      "source": [],
      "metadata": {
        "id": "OMgKdlCJE-yT"
      },
      "execution_count": null,
      "outputs": []
    },
    {
      "cell_type": "code",
      "source": [],
      "metadata": {
        "id": "1GZ52UEME-3M"
      },
      "execution_count": null,
      "outputs": []
    },
    {
      "cell_type": "code",
      "source": [],
      "metadata": {
        "id": "mQScHdagE-7k"
      },
      "execution_count": null,
      "outputs": []
    },
    {
      "cell_type": "code",
      "source": [],
      "metadata": {
        "id": "7Pbhoz5UE_AD"
      },
      "execution_count": null,
      "outputs": []
    }
  ]
}